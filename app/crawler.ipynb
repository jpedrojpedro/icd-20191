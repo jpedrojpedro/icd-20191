{
 "cells": [
  {
   "cell_type": "markdown",
   "metadata": {},
   "source": [
    "## Obtendo dados via crawler do portal OS Info"
   ]
  },
  {
   "cell_type": "markdown",
   "metadata": {},
   "source": [
    "#### Carregando bibliotecas"
   ]
  },
  {
   "cell_type": "code",
   "execution_count": null,
   "metadata": {},
   "outputs": [],
   "source": [
    "import os\n",
    "import glob\n",
    "import openpyxl\n",
    "import requests\n",
    "import pandas as pd\n",
    "import json\n",
    "from datetime import date"
   ]
  },
  {
   "cell_type": "markdown",
   "metadata": {},
   "source": [
    "#### Funções auxiliares"
   ]
  },
  {
   "cell_type": "code",
   "execution_count": null,
   "metadata": {},
   "outputs": [],
   "source": [
    "def listar_arquivos(extensao='xlsx'):\n",
    "    search = \"input/*.{}\".format(extensao)\n",
    "    files = glob.glob(search)\n",
    "    files.sort()\n",
    "    return files"
   ]
  },
  {
   "cell_type": "code",
   "execution_count": null,
   "metadata": {},
   "outputs": [],
   "source": [
    "# curl\n",
    "# 'https://osinfo.prefeitura.rio/report/groupedExpenses/server/groupedExpensesService/generateGroupExpensesReportByExpenses'\n",
    "# -H 'Accept: application/json, text/javascript, */*; q=0.01'\n",
    "# -H 'Referer: https://osinfo.prefeitura.rio/pages/application-container.html'\n",
    "# -H 'Origin: https://osinfo.prefeitura.rio'\n",
    "# -H 'X-Requested-With: XMLHttpRequest'\n",
    "# -H 'User-Agent: Mozilla/5.0 (Macintosh; Intel Mac OS X 10_14_5) AppleWebKit/537.36 (KHTML, like Gecko) Chrome/75.0.3770.100 Safari/537.36'\n",
    "# -H 'Content-Type: application/json'\n",
    "# --data-binary '\n",
    "# {\"cod_os\":263,\n",
    "#  \"id_contrato\":11,\n",
    "#  \"contas\":[],\n",
    "#  \"tipo_unidade\":null,\n",
    "#  \"unidades\":[],\n",
    "#  \"tipo_relatorio\":\"EXPENSES\",\n",
    "#  \"ref_inicio_mes\":\"01\",\n",
    "#  \"ref_inicio_ano\":\"2012\",\n",
    "#  \"ref_fim_mes\":\"09\",\n",
    "#  \"ref_fim_ano\":\"2015\"}'\n",
    "# --compressed"
   ]
  },
  {
   "cell_type": "code",
   "execution_count": null,
   "metadata": {},
   "outputs": [],
   "source": [
    "url = 'https://osinfo.prefeitura.rio/report/groupedExpenses/server/groupedExpensesService/generateGroupExpensesReportByExpenses'"
   ]
  },
  {
   "cell_type": "code",
   "execution_count": null,
   "metadata": {},
   "outputs": [],
   "source": [
    "data = '{\"cod_os\":%s,\"id_contrato\":%s,\"contas\":[],\"tipo_unidade\":null,\"unidades\":[],\"tipo_relatorio\":\"EXPENSES\",\"ref_inicio_mes\":\"%s\",\"ref_inicio_ano\":\"%s\",\"ref_fim_mes\":\"%s\",\"ref_fim_ano\":\"%s\"}'"
   ]
  },
  {
   "cell_type": "code",
   "execution_count": null,
   "metadata": {},
   "outputs": [],
   "source": [
    "headers = {\n",
    "    'Accept': 'application/json, text/javascript, */*; q=0.01',\n",
    "    'Referer': 'https://osinfo.prefeitura.rio/pages/application-container.html',\n",
    "    'Origin': 'https://osinfo.prefeitura.rio',\n",
    "    'X-Requested-With': 'XMLHttpRequest',\n",
    "    'User-Agent': 'Mozilla/5.0 (Macintosh; Intel Mac OS X 10_14_5) AppleWebKit/537.36 (KHTML, like Gecko) Chrome/75.0.3770.100 Safari/537.36',\n",
    "    'Content-Type': 'application/json',\n",
    "}"
   ]
  },
  {
   "cell_type": "code",
   "execution_count": null,
   "metadata": {},
   "outputs": [],
   "source": [
    "arquivos = listar_arquivos()"
   ]
  },
  {
   "cell_type": "markdown",
   "metadata": {},
   "source": [
    "#### Iniciando o processo - salvando os JSONs de retorno para cada contrato das OSS com a Prefeitura do Rio"
   ]
  },
  {
   "cell_type": "code",
   "execution_count": null,
   "metadata": {
    "scrolled": false
   },
   "outputs": [],
   "source": [
    "hoje = date.today()\n",
    "mes = hoje.strftime(\"%m\")\n",
    "ano = hoje.strftime(\"%Y\")\n",
    "for arquivo in arquivos:\n",
    "    df = pd.read_excel(arquivo, sheet_name='contratos')\n",
    "    for _index, row in df.iterrows():\n",
    "        cod_os = row['ORGANIZACAO'].split(' - ')[0]\n",
    "        cod_contrato = row['COD_CONTRATO']\n",
    "        dt_inicio = row['DATA_INICIO']\n",
    "        dt_fim = row['DATA_FIM']\n",
    "        try:\n",
    "            ref_inicio_mes = row['DATA_INICIO'].month\n",
    "            ref_inicio_ano = row['DATA_INICIO'].year\n",
    "            ref_fim_mes = row['DATA_FIM'].month\n",
    "            ref_fim_ano = row['DATA_FIM'].year\n",
    "            if dt_fim <= dt_inicio:\n",
    "                ref_fim_mes = mes\n",
    "                ref_fim_ano = ano\n",
    "            print(\"valores: {} - {} - {} - {} - {} - {}\".format(cod_os, cod_contrato, ref_inicio_mes, ref_inicio_ano, ref_fim_mes, ref_fim_ano))\n",
    "            payload = data % (cod_os, cod_contrato, ref_inicio_mes, ref_inicio_ano, ref_fim_mes, ref_fim_ano)\n",
    "            response = requests.post(url, headers=headers, data=payload)\n",
    "            with open(\"output/org_{}_contrato_{}.json\".format(cod_os, cod_contrato), 'w') as fp:\n",
    "                json.dump(response.json(), fp)\n",
    "        except:\n",
    "            print(\"Erro no contrato: {}\".format(cod_contrato))\n",
    "            continue"
   ]
  }
 ],
 "metadata": {
  "kernelspec": {
   "display_name": "Python 3",
   "language": "python",
   "name": "python3"
  },
  "language_info": {
   "codemirror_mode": {
    "name": "ipython",
    "version": 3
   },
   "file_extension": ".py",
   "mimetype": "text/x-python",
   "name": "python",
   "nbconvert_exporter": "python",
   "pygments_lexer": "ipython3",
   "version": "3.7.3"
  }
 },
 "nbformat": 4,
 "nbformat_minor": 2
}
