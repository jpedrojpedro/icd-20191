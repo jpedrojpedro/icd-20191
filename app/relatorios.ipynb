{
 "cells": [
  {
   "cell_type": "markdown",
   "metadata": {},
   "source": [
    "#### Carregando bibliotecas"
   ]
  },
  {
   "cell_type": "code",
   "execution_count": null,
   "metadata": {},
   "outputs": [],
   "source": [
    "import os\n",
    "import glob\n",
    "import json\n",
    "import openpyxl\n",
    "import pandas as pd\n",
    "import pandas.io.json as pd_json"
   ]
  },
  {
   "cell_type": "markdown",
   "metadata": {},
   "source": [
    "#### Funções auxiliares"
   ]
  },
  {
   "cell_type": "code",
   "execution_count": null,
   "metadata": {},
   "outputs": [],
   "source": [
    "def listar_arquivos(extensao='json'):\n",
    "    search = \"output/*.{}\".format(extensao)\n",
    "    files = glob.glob(search)\n",
    "    files.sort()\n",
    "    return files"
   ]
  },
  {
   "cell_type": "code",
   "execution_count": null,
   "metadata": {},
   "outputs": [],
   "source": [
    "def ler_json(caminho):\n",
    "    with open(caminho) as fp:  \n",
    "        dados = json.load(fp)\n",
    "    return dados"
   ]
  },
  {
   "cell_type": "code",
   "execution_count": null,
   "metadata": {},
   "outputs": [],
   "source": [
    "def obter_os_contrato(nome_arquivo):\n",
    "    nome_sem_extensao = nome_arquivo.split('.')[0]\n",
    "    partes = nome_sem_extensao.split('_')\n",
    "    return int(partes[1]), int(partes[3])"
   ]
  },
  {
   "cell_type": "code",
   "execution_count": null,
   "metadata": {},
   "outputs": [],
   "source": [
    "def obter_codigo_nome_os():\n",
    "    arquivo = 'input/contratos-controle.xlsx'\n",
    "    df = pd.read_excel(arquivo, sheet_name='contratos')\n",
    "    cod_os_nome = {}\n",
    "    for os in df['ORGANIZACAO']:\n",
    "        codigo_nome = os.split(' - ')\n",
    "        cod_os_nome.update({int(codigo_nome[0]): codigo_nome[1]})\n",
    "    return cod_os_nome"
   ]
  },
  {
   "cell_type": "code",
   "execution_count": null,
   "metadata": {},
   "outputs": [],
   "source": [
    "def obter_codigo_numero_contrato():\n",
    "    arquivo = 'input/contratos-controle.xlsx'\n",
    "    df = pd.read_excel(arquivo, sheet_name='contratos')\n",
    "    cod_num_contrato = {}\n",
    "    for _idx, row in df[['COD_CONTRATO', 'NUM_CONTRATO']].iterrows():\n",
    "        cod_num_contrato.update({int(row['COD_CONTRATO']): row['NUM_CONTRATO']})\n",
    "    return cod_num_contrato"
   ]
  },
  {
   "cell_type": "code",
   "execution_count": null,
   "metadata": {},
   "outputs": [],
   "source": [
    "def listar_planilhas(extensao='xlsx'):\n",
    "    search = \"input/*.{}\".format(extensao)\n",
    "    files = glob.glob(search)\n",
    "    files.sort()\n",
    "    return files"
   ]
  },
  {
   "cell_type": "markdown",
   "metadata": {},
   "source": [
    "#### Ajustando valores float em tabelas com duas casas decimais"
   ]
  },
  {
   "cell_type": "code",
   "execution_count": null,
   "metadata": {},
   "outputs": [],
   "source": [
    "pd.options.display.float_format = \"{:.2f}\".format"
   ]
  },
  {
   "cell_type": "code",
   "execution_count": null,
   "metadata": {},
   "outputs": [],
   "source": [
    "CONTRATO = obter_codigo_numero_contrato()"
   ]
  },
  {
   "cell_type": "code",
   "execution_count": null,
   "metadata": {},
   "outputs": [],
   "source": [
    "OS = obter_codigo_nome_os()"
   ]
  },
  {
   "cell_type": "code",
   "execution_count": null,
   "metadata": {},
   "outputs": [],
   "source": [
    "PREFEITO = {\n",
    "    2001: 'Cesar Maia',\n",
    "    2002: 'Cesar Maia',\n",
    "    2003: 'Cesar Maia',\n",
    "    2004: 'Cesar Maia',\n",
    "    2005: 'Cesar Maia',\n",
    "    2006: 'Cesar Maia',\n",
    "    2007: 'Cesar Maia',\n",
    "    2008: 'Cesar Maia',\n",
    "    2009: 'Eduardo Paes',\n",
    "    2010: 'Eduardo Paes',\n",
    "    2011: 'Eduardo Paes',\n",
    "    2012: 'Eduardo Paes',\n",
    "    2013: 'Eduardo Paes',\n",
    "    2014: 'Eduardo Paes',\n",
    "    2015: 'Eduardo Paes',\n",
    "    2016: 'Eduardo Paes',\n",
    "    2017: 'Marcelo Crivella',\n",
    "    2018: 'Marcelo Crivella',\n",
    "    2019: 'Marcelo Crivella',\n",
    "    2020: 'Marcelo Crivella',\n",
    "    2021: 'A definir'\n",
    "}"
   ]
  },
  {
   "cell_type": "markdown",
   "metadata": {},
   "source": [
    "#### Criação de Dataframes"
   ]
  },
  {
   "cell_type": "code",
   "execution_count": null,
   "metadata": {},
   "outputs": [],
   "source": [
    "dados_prefeito = []\n",
    "for ano, nome in PREFEITO.items():\n",
    "    dados_prefeito.append([ano, nome])\n",
    "df_prefeito = pd.DataFrame(columns=['ano', 'prefeito'], data=dados_prefeito)"
   ]
  },
  {
   "cell_type": "code",
   "execution_count": null,
   "metadata": {},
   "outputs": [],
   "source": [
    "dff = pd.DataFrame()\n",
    "for arquivo in listar_arquivos():\n",
    "    os_id, contrato_id = obter_os_contrato(arquivo)\n",
    "    dados = ler_json(arquivo)\n",
    "    df = pd_json.json_normalize(dados)\n",
    "    df['os_id'] = os_id\n",
    "    df['os_nome'] = OS[os_id]\n",
    "    df['contrato_id'] = contrato_id\n",
    "    df['contrato_numero'] = CONTRATO[contrato_id]\n",
    "    df = pd.merge(left=df, right=df_prefeito, how='left', left_on='ref_ano', right_on='ano')\n",
    "    dff = dff.append(df)"
   ]
  },
  {
   "cell_type": "code",
   "execution_count": null,
   "metadata": {
    "scrolled": true
   },
   "outputs": [],
   "source": [
    "dff.head(5)"
   ]
  },
  {
   "cell_type": "markdown",
   "metadata": {},
   "source": [
    "#### Gastos anuais declarados"
   ]
  },
  {
   "cell_type": "code",
   "execution_count": null,
   "metadata": {},
   "outputs": [],
   "source": [
    "agregacoes = {\n",
    "    'valor': 'sum',\n",
    "    'os_id': pd.Series.nunique\n",
    "}\n",
    "df_gastos_anuais = dff.groupby('ref_ano').agg(agregacoes)"
   ]
  },
  {
   "cell_type": "code",
   "execution_count": null,
   "metadata": {
    "scrolled": true
   },
   "outputs": [],
   "source": [
    "df_gastos_anuais.to_excel('output/graficos/gastos-anuais-raw.xlsx')"
   ]
  },
  {
   "cell_type": "markdown",
   "metadata": {},
   "source": [
    "#### Gastos anuais declarados por OS"
   ]
  },
  {
   "cell_type": "code",
   "execution_count": null,
   "metadata": {},
   "outputs": [],
   "source": [
    "agregacoes = {\n",
    "    'valor': 'sum'\n",
    "}\n",
    "df_gastos_anuais_por_os = dff.groupby(['ref_ano', 'os_nome']).agg(agregacoes)"
   ]
  },
  {
   "cell_type": "code",
   "execution_count": null,
   "metadata": {},
   "outputs": [],
   "source": [
    "df_gastos_anuais_por_os.to_excel('output/graficos/gastos-anuais-por-os-raw.xlsx')"
   ]
  },
  {
   "cell_type": "markdown",
   "metadata": {},
   "source": [
    "#### Gastos anuais por Prefeito"
   ]
  },
  {
   "cell_type": "code",
   "execution_count": null,
   "metadata": {},
   "outputs": [],
   "source": [
    "agregacoes = {\n",
    "    'valor': 'sum'\n",
    "}\n",
    "df_gastos_anuais_por_prefeito = dff.groupby(['ref_ano', 'prefeito']).agg(agregacoes)"
   ]
  },
  {
   "cell_type": "code",
   "execution_count": null,
   "metadata": {},
   "outputs": [],
   "source": [
    "df_gastos_anuais_por_prefeito.to_excel('output/graficos/gastos-anuais-por-prefeito-raw.xlsx')"
   ]
  },
  {
   "cell_type": "markdown",
   "metadata": {},
   "source": [
    "#### Gastos Segmentados por tipo de despesas"
   ]
  },
  {
   "cell_type": "code",
   "execution_count": null,
   "metadata": {},
   "outputs": [],
   "source": [
    "agregacoes = {\n",
    "    'valor': 'sum'\n",
    "}\n",
    "df_gastos_os_por_despesa = dff[dff['nivel'] == '1'].groupby(['os_nome', 'despesa']).agg(agregacoes)"
   ]
  },
  {
   "cell_type": "code",
   "execution_count": null,
   "metadata": {},
   "outputs": [],
   "source": [
    "df_gastos_os_por_despesa.to_excel('output/graficos/gastos-declarados-os-por-despesas-raw.xlsx')"
   ]
  },
  {
   "cell_type": "markdown",
   "metadata": {},
   "source": [
    "#### Quantidade de contratos por OS"
   ]
  },
  {
   "cell_type": "code",
   "execution_count": null,
   "metadata": {},
   "outputs": [],
   "source": [
    "agregacoes = {\n",
    "    'contrato_id': pd.Series.nunique,\n",
    "    'valor': 'sum'\n",
    "}\n",
    "df_qtd_contrato_por_os = dff.groupby(['ref_ano', 'os_nome']).agg(agregacoes)"
   ]
  },
  {
   "cell_type": "code",
   "execution_count": null,
   "metadata": {},
   "outputs": [],
   "source": [
    "df_qtd_contrato_por_os.to_excel('output/graficos/quantidade-contratos-os-por-ano-raw.xlsx')"
   ]
  },
  {
   "cell_type": "code",
   "execution_count": null,
   "metadata": {},
   "outputs": [],
   "source": [
    "df_qtd_contrato_por_os"
   ]
  },
  {
   "cell_type": "code",
   "execution_count": null,
   "metadata": {
    "scrolled": false
   },
   "outputs": [],
   "source": [
    "# dff[(dff['os_id'] == 258) & (dff['valor'] > 0)]"
   ]
  }
 ],
 "metadata": {
  "kernelspec": {
   "display_name": "Python 3",
   "language": "python",
   "name": "python3"
  },
  "language_info": {
   "codemirror_mode": {
    "name": "ipython",
    "version": 3
   },
   "file_extension": ".py",
   "mimetype": "text/x-python",
   "name": "python",
   "nbconvert_exporter": "python",
   "pygments_lexer": "ipython3",
   "version": "3.7.3"
  }
 },
 "nbformat": 4,
 "nbformat_minor": 2
}
