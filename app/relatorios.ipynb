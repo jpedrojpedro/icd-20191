{
 "cells": [
  {
   "cell_type": "code",
   "execution_count": null,
   "metadata": {},
   "outputs": [],
   "source": [
    "import os\n",
    "import glob\n",
    "import json\n",
    "import openpyxl\n",
    "import pandas as pd\n",
    "import pandas.io.json as pd_json"
   ]
  },
  {
   "cell_type": "code",
   "execution_count": null,
   "metadata": {},
   "outputs": [],
   "source": [
    "def listar_arquivos(extensao='json'):\n",
    "    search = \"output/*.{}\".format(extensao)\n",
    "    files = glob.glob(search)\n",
    "    files.sort()\n",
    "    return files"
   ]
  },
  {
   "cell_type": "code",
   "execution_count": null,
   "metadata": {},
   "outputs": [],
   "source": [
    "def ler_json(caminho):\n",
    "    with open(caminho) as fp:  \n",
    "        dados = json.load(fp)\n",
    "    return dados"
   ]
  },
  {
   "cell_type": "code",
   "execution_count": null,
   "metadata": {},
   "outputs": [],
   "source": [
    "def obter_os_contrato(nome_arquivo):\n",
    "    nome_sem_extensao = nome_arquivo.split('.')[0]\n",
    "    partes = nome_sem_extensao.split('_')\n",
    "    return int(partes[1]), int(partes[3])"
   ]
  },
  {
   "cell_type": "code",
   "execution_count": null,
   "metadata": {},
   "outputs": [],
   "source": [
    "def obter_codigo_nome_os():\n",
    "    arquivo = 'input/contratos-controle.xlsx'\n",
    "    df = pd.read_excel(arquivo, sheet_name='contratos')\n",
    "    cod_os_nome = {}\n",
    "    for os in df['ORGANIZACAO']:\n",
    "        codigo_nome = os.split(' - ')\n",
    "        cod_os_nome.update({int(codigo_nome[0]): codigo_nome[1]})\n",
    "    return cod_os_nome"
   ]
  },
  {
   "cell_type": "code",
   "execution_count": null,
   "metadata": {},
   "outputs": [],
   "source": [
    "def obter_codigo_numero_contrato():\n",
    "    arquivo = 'input/contratos-controle.xlsx'\n",
    "    df = pd.read_excel(arquivo, sheet_name='contratos')\n",
    "    cod_num_contrato = {}\n",
    "    for _idx, row in df[['COD_CONTRATO', 'NUM_CONTRATO']].iterrows():\n",
    "        cod_num_contrato.update({int(row['COD_CONTRATO']): row['NUM_CONTRATO']})\n",
    "    return cod_num_contrato"
   ]
  },
  {
   "cell_type": "code",
   "execution_count": null,
   "metadata": {},
   "outputs": [],
   "source": [
    "CONTRATO = obter_codigo_numero_contrato()"
   ]
  },
  {
   "cell_type": "code",
   "execution_count": null,
   "metadata": {},
   "outputs": [],
   "source": [
    "OS = obter_codigo_nome_os()"
   ]
  },
  {
   "cell_type": "code",
   "execution_count": null,
   "metadata": {},
   "outputs": [],
   "source": [
    "dff = pd.DataFrame()\n",
    "for arquivo in listar_arquivos():\n",
    "    os_id, contrato_id = obter_os_contrato(arquivo)\n",
    "    dados = ler_json(arquivo)\n",
    "    df = pd_json.json_normalize(dados)\n",
    "    df['os_id'] = os_id\n",
    "    df['os_nome'] = OS[os_id]\n",
    "    df['contrato_id'] = contrato_id\n",
    "    df['contrato_numero'] = CONTRATO[contrato_id]\n",
    "    dff = dff.append(df)"
   ]
  },
  {
   "cell_type": "code",
   "execution_count": null,
   "metadata": {
    "scrolled": false
   },
   "outputs": [],
   "source": [
    "dff[(dff['os_id'] == 258) & (dff['valor'] > 0)]"
   ]
  }
 ],
 "metadata": {
  "kernelspec": {
   "display_name": "Python 3",
   "language": "python",
   "name": "python3"
  },
  "language_info": {
   "codemirror_mode": {
    "name": "ipython",
    "version": 3
   },
   "file_extension": ".py",
   "mimetype": "text/x-python",
   "name": "python",
   "nbconvert_exporter": "python",
   "pygments_lexer": "ipython3",
   "version": "3.7.3"
  }
 },
 "nbformat": 4,
 "nbformat_minor": 2
}
