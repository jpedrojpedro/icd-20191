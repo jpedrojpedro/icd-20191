{
 "cells": [
  {
   "cell_type": "code",
   "execution_count": 2,
   "metadata": {},
   "outputs": [],
   "source": [
    "import os\n",
    "import glob\n",
    "import pandas as pd"
   ]
  },
  {
   "cell_type": "code",
   "execution_count": 3,
   "metadata": {},
   "outputs": [],
   "source": [
    "def listar_arquivos(diretorio='Favorecidos', extensao='xlsx'):\n",
    "    search = \"input/{}/*.{}\".format(diretorio, extensao)\n",
    "    files = glob.glob(search)\n",
    "    files.sort()\n",
    "    return files"
   ]
  },
  {
   "cell_type": "code",
   "execution_count": 4,
   "metadata": {},
   "outputs": [],
   "source": [
    "def parse_nome_arquivo(caminho):\n",
    "    nomes = caminho.split('/')\n",
    "    pasta = nomes[0]\n",
    "    subpasta = nomes[1]\n",
    "    arquivo = nomes[2].split('.')\n",
    "    nome = arquivo[0]\n",
    "    extensao = arquivo[1]\n",
    "    return pasta, subpasta, nome, extensao"
   ]
  },
  {
   "cell_type": "code",
   "execution_count": 5,
   "metadata": {},
   "outputs": [],
   "source": [
    "arquivos = listar_arquivos()"
   ]
  },
  {
   "cell_type": "code",
   "execution_count": 6,
   "metadata": {},
   "outputs": [
    {
     "data": {
      "text/plain": [
       "['input/Favorecidos/Open_Data_Favorecidos_2008.xlsx',\n",
       " 'input/Favorecidos/Open_Data_Favorecidos_2009.xlsx',\n",
       " 'input/Favorecidos/Open_Data_Favorecidos_2010.xlsx',\n",
       " 'input/Favorecidos/Open_Data_Favorecidos_2011.xlsx',\n",
       " 'input/Favorecidos/Open_Data_Favorecidos_2012.xlsx',\n",
       " 'input/Favorecidos/Open_Data_Favorecidos_2013.xlsx',\n",
       " 'input/Favorecidos/Open_Data_Favorecidos_2014.xlsx',\n",
       " 'input/Favorecidos/Open_Data_Favorecidos_2015.xlsx',\n",
       " 'input/Favorecidos/Open_Data_Favorecidos_2016.xlsx',\n",
       " 'input/Favorecidos/Open_Data_Favorecidos_2017.xlsx',\n",
       " 'input/Favorecidos/Open_Data_Favorecidos_2018.xlsx']"
      ]
     },
     "execution_count": 6,
     "metadata": {},
     "output_type": "execute_result"
    }
   ],
   "source": [
    "arquivos"
   ]
  },
  {
   "cell_type": "code",
   "execution_count": 7,
   "metadata": {},
   "outputs": [],
   "source": [
    "colunas = [\n",
    "    'Data da liquidação',\n",
    "    'Data do pagamento',\n",
    "    'Vl liq',\n",
    "    'Vl pago',\n",
    "    'Favorecido',\n",
    "    'Código favorecido',\n",
    "    'Órgão executor',\n",
    "    'Descrição do órgão executor',\n",
    "    'Grupo de despesa',\n",
    "    'Descrição de grupo de despesa ',\n",
    "]"
   ]
  },
  {
   "cell_type": "code",
   "execution_count": 8,
   "metadata": {},
   "outputs": [],
   "source": [
    "df = pd.read_excel(arquivos[0], sheet_name='Plan1', usecols=colunas)"
   ]
  },
  {
   "cell_type": "code",
   "execution_count": 10,
   "metadata": {},
   "outputs": [],
   "source": [
    "# SECRETARIA MUNICIPAL DE SAÚDE = 1800 e FUNDO DE ASSISTÊNCIA À SAÚDE = 1333\n",
    "df_saude = df[(df['Órgão executor'] == 1800) | (df['Órgão executor'] == 1333)]"
   ]
  },
  {
   "cell_type": "code",
   "execution_count": 12,
   "metadata": {},
   "outputs": [],
   "source": [
    "pasta, subpasta, nome, extensao = parse_nome_arquivo(arquivos[0])"
   ]
  },
  {
   "cell_type": "code",
   "execution_count": 13,
   "metadata": {},
   "outputs": [],
   "source": [
    "caminho = \"{}/{}/{}/{}.{}\".format(pasta, subpasta, 'saude', nome, extensao)"
   ]
  },
  {
   "cell_type": "code",
   "execution_count": 15,
   "metadata": {},
   "outputs": [],
   "source": [
    "df_saude.to_excel(caminho, sheet_name=subpasta)"
   ]
  }
 ],
 "metadata": {
  "kernelspec": {
   "display_name": "Python 3",
   "language": "python",
   "name": "python3"
  },
  "language_info": {
   "codemirror_mode": {
    "name": "ipython",
    "version": 3
   },
   "file_extension": ".py",
   "mimetype": "text/x-python",
   "name": "python",
   "nbconvert_exporter": "python",
   "pygments_lexer": "ipython3",
   "version": "3.7.3"
  }
 },
 "nbformat": 4,
 "nbformat_minor": 2
}
