{
 "cells": [
  {
   "cell_type": "markdown",
   "metadata": {},
   "source": [
    "## Filtragem arquivos transparência - Saúde"
   ]
  },
  {
   "cell_type": "code",
   "execution_count": null,
   "metadata": {},
   "outputs": [],
   "source": [
    "import os\n",
    "import glob\n",
    "import openpyxl\n",
    "import pandas as pd"
   ]
  },
  {
   "cell_type": "code",
   "execution_count": null,
   "metadata": {},
   "outputs": [],
   "source": [
    "def listar_arquivos(diretorio='Favorecidos', extensao='xlsx'):\n",
    "    search = \"input/{}/*.{}\".format(diretorio, extensao)\n",
    "    files = glob.glob(search)\n",
    "    files.sort()\n",
    "    return files"
   ]
  },
  {
   "cell_type": "code",
   "execution_count": null,
   "metadata": {},
   "outputs": [],
   "source": [
    "arquivos = listar_arquivos('Contratos')"
   ]
  },
  {
   "cell_type": "code",
   "execution_count": null,
   "metadata": {},
   "outputs": [],
   "source": [
    "arquivos"
   ]
  },
  {
   "cell_type": "code",
   "execution_count": null,
   "metadata": {},
   "outputs": [],
   "source": [
    "dff = pd.DataFrame()\n",
    "for arquivo in arquivos:\n",
    "    df = pd.read_excel(arquivo, sheet_name='Plan1')\n",
    "    # SECRETARIA MUNICIPAL DE SAÚDE = 1800 e FUNDO DE ASSISTÊNCIA À SAÚDE = 1333\n",
    "    df = df[(df['Órgão executor'] == 1800) | (df['Órgão executor'] == 1333)]\n",
    "    dff = dff.append(df)"
   ]
  },
  {
   "cell_type": "code",
   "execution_count": null,
   "metadata": {},
   "outputs": [],
   "source": [
    "len(dff)"
   ]
  },
  {
   "cell_type": "code",
   "execution_count": null,
   "metadata": {},
   "outputs": [],
   "source": [
    "len(dff['Código favorecido'].unique())"
   ]
  },
  {
   "cell_type": "code",
   "execution_count": null,
   "metadata": {},
   "outputs": [],
   "source": [
    "aggregations = {\n",
    "    'Favorecido': 'first',\n",
    "    'Valor Instrumento': 'sum',\n",
    "    'Valor do acréscimo ou redução': 'sum',\n",
    "    'Saldo do instrumento': 'sum',\n",
    "    'Saldo executado': 'sum',\n",
    "    'Valor empenhado': 'sum',\n",
    "    'Valor liquidado': 'sum',\n",
    "    'Valor pago': 'sum'\n",
    "}\n",
    "dff1 = dff.groupby(['Ano instrumento', 'Código favorecido']).agg(aggregations)"
   ]
  },
  {
   "cell_type": "code",
   "execution_count": null,
   "metadata": {},
   "outputs": [],
   "source": [
    "dff1"
   ]
  },
  {
   "cell_type": "code",
   "execution_count": null,
   "metadata": {},
   "outputs": [],
   "source": [
    "aggregations = {\n",
    "    'Valor pago': 'sum',\n",
    "    'Código favorecido': 'count'\n",
    "}\n",
    "dff2 = dff.groupby('Ano instrumento').agg(aggregations)"
   ]
  },
  {
   "cell_type": "code",
   "execution_count": null,
   "metadata": {},
   "outputs": [],
   "source": [
    "dff2"
   ]
  },
  {
   "cell_type": "code",
   "execution_count": null,
   "metadata": {},
   "outputs": [],
   "source": [
    "with pd.ExcelWriter('output/gastos_totais_saude.xlsx') as writer:\n",
    "    dff1.to_excel(writer, sheet_name='detalhado')\n",
    "    dff2.to_excel(writer, sheet_name='anual')"
   ]
  },
  {
   "cell_type": "code",
   "execution_count": null,
   "metadata": {},
   "outputs": [],
   "source": [
    "list(dff)"
   ]
  },
  {
   "cell_type": "code",
   "execution_count": null,
   "metadata": {},
   "outputs": [],
   "source": [
    "codigos = [\n",
    "    2385669000174,\n",
    "    9652823000176,\n",
    "    61699567000192,\n",
    "    24232886000167,\n",
    "    343941000128,\n",
    "    8882456000134,\n",
    "    33981408000140,\n",
    "    27774561000102,\n",
    "    31104896000182,\n",
    "    33005638000174,\n",
    "    6942340000118,\n",
    "    5153789000134,\n",
    "    2833927377000140,\n",
    "    42375097000167,\n",
    "    48211585000115,\n",
    "    5696218000146,\n",
    "    2158304200084,\n",
    "    7345851000115,\n",
    "    33722224000166,\n",
    "    7813739000161,\n",
    "    10635117000103,\n",
    "    66518267000183\n",
    "]"
   ]
  },
  {
   "cell_type": "code",
   "execution_count": null,
   "metadata": {},
   "outputs": [],
   "source": [
    "dff = dff[dff['Código favorecido'].isin(codigos)]"
   ]
  },
  {
   "cell_type": "code",
   "execution_count": null,
   "metadata": {},
   "outputs": [],
   "source": [
    "len(dff)"
   ]
  },
  {
   "cell_type": "code",
   "execution_count": null,
   "metadata": {},
   "outputs": [],
   "source": [
    "aggregations = {\n",
    "    'Favorecido': 'first',\n",
    "    'Valor Instrumento': 'sum',\n",
    "    'Valor do acréscimo ou redução': 'sum',\n",
    "    'Saldo do instrumento': 'sum',\n",
    "    'Saldo executado': 'sum',\n",
    "    'Valor empenhado': 'sum',\n",
    "    'Valor liquidado': 'sum',\n",
    "    'Valor pago': 'sum'\n",
    "}\n",
    "dff3 = dff.groupby(['Ano instrumento', 'Código favorecido']).agg(aggregations)"
   ]
  },
  {
   "cell_type": "code",
   "execution_count": null,
   "metadata": {},
   "outputs": [],
   "source": [
    "dff3"
   ]
  },
  {
   "cell_type": "code",
   "execution_count": null,
   "metadata": {},
   "outputs": [],
   "source": [
    "aggregations = {\n",
    "    'Valor pago': 'sum',\n",
    "    'Código favorecido': 'count'\n",
    "}\n",
    "dff4 = dff.groupby('Ano instrumento').agg(aggregations)"
   ]
  },
  {
   "cell_type": "code",
   "execution_count": null,
   "metadata": {},
   "outputs": [],
   "source": [
    "dff4"
   ]
  },
  {
   "cell_type": "code",
   "execution_count": null,
   "metadata": {},
   "outputs": [],
   "source": [
    "with pd.ExcelWriter('output/gastos_os_saude.xlsx') as writer:\n",
    "    dff3.to_excel(writer, sheet_name='detalhado')\n",
    "    dff4.to_excel(writer, sheet_name='anual')"
   ]
  }
 ],
 "metadata": {
  "kernelspec": {
   "display_name": "Python 3",
   "language": "python",
   "name": "python3"
  },
  "language_info": {
   "codemirror_mode": {
    "name": "ipython",
    "version": 3
   },
   "file_extension": ".py",
   "mimetype": "text/x-python",
   "name": "python",
   "nbconvert_exporter": "python",
   "pygments_lexer": "ipython3",
   "version": "3.7.3"
  }
 },
 "nbformat": 4,
 "nbformat_minor": 2
}
